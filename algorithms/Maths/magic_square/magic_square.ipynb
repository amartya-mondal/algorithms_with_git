{
 "cells": [
  {
   "cell_type": "code",
   "execution_count": 2,
   "metadata": {},
   "outputs": [
    {
     "name": "stdout",
     "output_type": "stream",
     "text": [
      "17\t24\t1\t8\t15\t\n",
      "\n",
      "23\t5\t7\t14\t16\t\n",
      "\n",
      "4\t6\t13\t20\t22\t\n",
      "\n",
      "10\t12\t19\t21\t3\t\n",
      "\n",
      "11\t18\t25\t2\t9\t\n",
      "\n"
     ]
    }
   ],
   "source": [
    "\"\"\" \n",
    "This is a program that makes magic square for odd no of rows......\n",
    "\"\"\"\n",
    "#----------------------------------------------------------------------------------------\n",
    "class magicsq(object):\n",
    "    def __init__(self):\n",
    "        self.n=2\n",
    "        while self.n%2==0:\n",
    "            self.n=int(input(\"Enter odd no of rows: \"))\n",
    "#----------------------------------------------------------------------------------------\n",
    "    def work(self):\n",
    "        m=self.n\n",
    "    #-------------------------------------------------------------------------------\n",
    "    #A matrix is created and the places are filled with 0.......\n",
    "        k=[[0 for i in range(m)] for j in range(m)]#list comprehension\n",
    "    #------------------------------------------------------------------------------\n",
    "    #Working according to the logic developed. its a general pattern that has been noted\n",
    "    #for odd magic square that the first no benngins from a logical place. That position\n",
    "    #is determined.....\n",
    "        r=0\n",
    "        c=int(m/2)\n",
    "    #----------------------------------------------------------------------------------\n",
    "    #It works for the square of the no of rows. I am to use the value of i in the loop\n",
    "    #so I have started it from 1........Now to understand the code and the logical position of\n",
    "    #the next term you need to trace the code........\n",
    "        for i in range(1, m*m +1):\n",
    "            k[r][c]=i\n",
    "            br=r+1\n",
    "            bc=c+1\n",
    "            r=(r+m-1)%m\n",
    "            c=(c+1)%m\n",
    "    #----------------------------------------------------------------------------------\n",
    "    #Prints overwriting of the places that are already filled with some non zero number.\n",
    "    #the value of r and c is set according to the logic.....\n",
    "            if k[r][c]!=0:\n",
    "                r=br\n",
    "                c=bc-1\n",
    "#--------------------------------------------------------------------------------------------\n",
    "#The matrix is now printed.........\n",
    "        for i in range(m):\n",
    "            for j in range(m):\n",
    "                print (k[i][j],end=\"\")\n",
    "                print (\"\\t\",end=\"\")\n",
    "            print (\"\\n\")\n",
    "\n",
    "obj=magicsq()\n",
    "obj.work()"
   ]
  },
  {
   "cell_type": "code",
   "execution_count": null,
   "metadata": {},
   "outputs": [],
   "source": []
  }
 ],
 "metadata": {
  "kernelspec": {
   "display_name": "Python 3",
   "language": "python",
   "name": "python3"
  },
  "language_info": {
   "codemirror_mode": {
    "name": "ipython",
    "version": 3
   },
   "file_extension": ".py",
   "mimetype": "text/x-python",
   "name": "python",
   "nbconvert_exporter": "python",
   "pygments_lexer": "ipython3",
   "version": "3.6.5"
  }
 },
 "nbformat": 4,
 "nbformat_minor": 2
}
