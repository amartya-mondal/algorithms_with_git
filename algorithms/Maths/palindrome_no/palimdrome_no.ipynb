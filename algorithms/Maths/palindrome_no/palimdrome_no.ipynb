{
 "cells": [
  {
   "cell_type": "code",
   "execution_count": 3,
   "metadata": {},
   "outputs": [
    {
     "name": "stdout",
     "output_type": "stream",
     "text": [
      "The number you entered is not palindrome.\n"
     ]
    }
   ],
   "source": [
    "#PROGRAM TO FIND PALINDROME NUMBER\n",
    "#----------------------------------------------------------------------------------------\n",
    "class palindrome(object):\n",
    "    def __init__(self):\n",
    "        self.n=int(input(\"Enter a number: \"))\n",
    "#--------------------------------------------------------------------------------------------\n",
    "\n",
    "#MAIN WORKING AREA\n",
    "    def work(self):\n",
    "#-----------------------------------------------------------------------------------------\n",
    "    #COUNTING THE NUMBER OF DIGITS IN THE NUMBER, BY CONVERTING IT INTO A STRING AND USING\n",
    "    #LEN FUNCTION TO DO SON\n",
    "        b=str(self.n)\n",
    "        a=len(b)\n",
    "#-----------------------------------------------------------------------------------------\n",
    "# THe logic used is: matching the last digit with the first one, second with second last and\n",
    "# so on....\n",
    "\n",
    "        if a>1:\n",
    "            for i in range(a//2):\n",
    "                if b[i]==b[a-1-i]:\n",
    "                    flag=0\n",
    "                else:\n",
    "                    flag=1\n",
    "                    break\n",
    "        else:\n",
    "            flag=0\n",
    "\n",
    "        if flag==0:\n",
    "            print (\"The number you entered is a palindrome no.\")\n",
    "        else:\n",
    "            print (\"The number you entered is not palindrome.\")\n",
    "\n",
    "obj=palindrome()\n",
    "obj.work()"
   ]
  },
  {
   "cell_type": "code",
   "execution_count": null,
   "metadata": {},
   "outputs": [],
   "source": []
  }
 ],
 "metadata": {
  "kernelspec": {
   "display_name": "Python 3",
   "language": "python",
   "name": "python3"
  },
  "language_info": {
   "codemirror_mode": {
    "name": "ipython",
    "version": 3
   },
   "file_extension": ".py",
   "mimetype": "text/x-python",
   "name": "python",
   "nbconvert_exporter": "python",
   "pygments_lexer": "ipython3",
   "version": "3.6.5"
  }
 },
 "nbformat": 4,
 "nbformat_minor": 2
}
