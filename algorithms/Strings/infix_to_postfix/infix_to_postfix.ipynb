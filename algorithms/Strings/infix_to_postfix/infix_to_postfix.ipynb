{
 "cells": [
  {
   "cell_type": "code",
   "execution_count": 4,
   "metadata": {},
   "outputs": [
    {
     "name": "stdout",
     "output_type": "stream",
     "text": [
      "A B + C D + *\n"
     ]
    }
   ],
   "source": [
    "class IPE:\n",
    "    def __init__(self):\n",
    "        self.opStack=[]\n",
    "        self.OPhierarchy = {\"^\":3,\"*\":2,\"/\":2,\"+\":1,\"-\":1,\"(\":0}\n",
    "        self.postfix = []\n",
    "    \n",
    "    def infixToPostfix(self, infix):\n",
    "        \n",
    "        Elements = infix.split()\n",
    "        alpha=\"ABCDEFGHIJKLMNOPQRSTUVWXYZabcdefghijklmnopqrstuvwxyz\"\n",
    "        digit=\"0123456789\"\n",
    "\n",
    "        for element in Elements:\n",
    "            if element in alpha or element in digit:\n",
    "                self.postfix.append(element)\n",
    "            elif element == '(':\n",
    "                self.opStack.append(element)\n",
    "            elif element == ')':\n",
    "                topelement = self.opStack.pop()\n",
    "                while topelement != '(':\n",
    "                    self.postfix.append(topelement)\n",
    "                    topelement=self.opStack.pop()\n",
    "            else:\n",
    "                try:\n",
    "                    while (self.opStack != [] and \\\n",
    "                           (self.OPhierarchy[self.opStack[len(self.opStack)-1]] >= self.OPhierarchy[element])):\n",
    "                        topelement=self.opStack.pop()\n",
    "                        self.postfix.append(topelement)\n",
    "                    self.opStack.append(element)\n",
    "                except KeyError:\n",
    "                    print ('Invalid Infix Expression...')\n",
    "                    return\n",
    "\n",
    "        while self.opStack != []:\n",
    "            topelement=self.opStack.pop()\n",
    "            self.postfix.append(topelement)\n",
    "        return \" \".join(self.postfix)#reverse of the split operation\n",
    "\n",
    "    def run(self): #This function uses customised exception class\n",
    "        class MyException(Exception):\n",
    "            pass\n",
    "        try:\n",
    "            infix=input('Enter your infix expresion: ')\n",
    "            if \" \" not in infix:\n",
    "                raise MyException(\"Invalid Infix expression\")\n",
    "            else:\n",
    "                print(self.infixToPostfix(infix))\n",
    "        except MyException as e:\n",
    "            print (e)                   \n",
    "ob=IPE()\n",
    "ob.run()"
   ]
  },
  {
   "cell_type": "code",
   "execution_count": null,
   "metadata": {},
   "outputs": [],
   "source": []
  }
 ],
 "metadata": {
  "kernelspec": {
   "display_name": "Python 3",
   "language": "python",
   "name": "python3"
  },
  "language_info": {
   "codemirror_mode": {
    "name": "ipython",
    "version": 3
   },
   "file_extension": ".py",
   "mimetype": "text/x-python",
   "name": "python",
   "nbconvert_exporter": "python",
   "pygments_lexer": "ipython3",
   "version": "3.6.5"
  }
 },
 "nbformat": 4,
 "nbformat_minor": 2
}
