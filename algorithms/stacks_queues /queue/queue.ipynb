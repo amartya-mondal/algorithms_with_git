{
 "cells": [
  {
   "cell_type": "code",
   "execution_count": 1,
   "metadata": {},
   "outputs": [
    {
     "name": "stdout",
     "output_type": "stream",
     "text": [
      "...............WELCOME TO PROGRAM OF QUEUE............\n",
      "\n",
      "\n",
      "The Queue so far created is: \n",
      "23 \n",
      "\n",
      "The peeked value is:  23\n",
      "\n",
      "\n",
      "\n",
      "The Queue so far created is: \n",
      "23 21 87 \n",
      "\n"
     ]
    },
    {
     "ename": "SystemExit",
     "evalue": "",
     "output_type": "error",
     "traceback": [
      "An exception has occurred, use %tb to see the full traceback.\n",
      "\u001b[0;31mSystemExit\u001b[0m\n"
     ]
    },
    {
     "name": "stderr",
     "output_type": "stream",
     "text": [
      "/Users/amartyamondal/anaconda3/lib/python3.6/site-packages/IPython/core/interactiveshell.py:2971: UserWarning: To exit: use 'exit', 'quit', or Ctrl-D.\n",
      "  warn(\"To exit: use 'exit', 'quit', or Ctrl-D.\", stacklevel=1)\n"
     ]
    }
   ],
   "source": [
    "#WAP TO IMPLEMENT QUEUE\n",
    "import sys\n",
    "class Queue(object):\n",
    "    def __init__(self):\n",
    "        print (\"...............WELCOME TO PROGRAM OF QUEUE............\")\n",
    "        print()\n",
    "        self.n=int(input(\"Enter the length of the queue: \"))\n",
    "        self.l=[None for i in range(self.n)]\n",
    "        self.f=-1\n",
    "        self.r=-1\n",
    "\n",
    "    def Enqueue(self):\n",
    "        a=input(\"Enter the value you want to add: \")\n",
    "        self.r+=1\n",
    "        self.l[self.r]=a\n",
    "\n",
    "    def Dequeue(self):\n",
    "        b=self.l[self.f]\n",
    "        print (\"The popped value is: \",b)\n",
    "        self.l[self.f]=None\n",
    "        self.f+=1\n",
    "\n",
    "    def Display(self):\n",
    "        print (\"The Queue so far created is: \")\n",
    "        for i in range(self.f,self.r+1):\n",
    "            print (self.l[i],end=\" \")\n",
    "        print()\n",
    "\n",
    "    def overflow(self):\n",
    "        if self.r==self.n-1:\n",
    "            print (\"The queue is overflown..\")\n",
    "            return True\n",
    "        else:\n",
    "            return False\n",
    "    def underflow(self):\n",
    "        if self.f>self.r or self.f==-1:\n",
    "            print (\"The queue is underflow.\")\n",
    "            return True\n",
    "        else:\n",
    "            return False\n",
    "\n",
    "    def main(self):\n",
    "        cho=1\n",
    "        while (True):\n",
    "            cho=int(input(\"Press 1 to enqueue, 2 to dequeue, 3 to display, 4 to peek, 0 to exit.\"))\n",
    "            if cho==1:\n",
    "                if self.overflow()==False:\n",
    "                    self.Enqueue()\n",
    "                    if self.f==-1:\n",
    "                        self.f=0\n",
    "            elif cho==2:\n",
    "                if self.underflow()==False:\n",
    "                    self.Dequeue()\n",
    "            elif cho==3:\n",
    "                if self.underflow()==False:\n",
    "                    self.Display()\n",
    "            elif cho==4:\n",
    "                if self.underflow()==False:\n",
    "                    print (\"The peeked value is: \",self.l[self.f])\n",
    "            elif cho==0:\n",
    "                sys.exit()\n",
    "            if self.underflow==True:\n",
    "                self.f=-1\n",
    "                self.r=-1\n",
    "            print()\n",
    "\n",
    "obj=Queue()\n",
    "obj.main()"
   ]
  },
  {
   "cell_type": "markdown",
   "metadata": {},
   "source": [
    "###### "
   ]
  }
 ],
 "metadata": {
  "kernelspec": {
   "display_name": "Python 3",
   "language": "python",
   "name": "python3"
  },
  "language_info": {
   "codemirror_mode": {
    "name": "ipython",
    "version": 3
   },
   "file_extension": ".py",
   "mimetype": "text/x-python",
   "name": "python",
   "nbconvert_exporter": "python",
   "pygments_lexer": "ipython3",
   "version": "3.6.5"
  }
 },
 "nbformat": 4,
 "nbformat_minor": 2
}
