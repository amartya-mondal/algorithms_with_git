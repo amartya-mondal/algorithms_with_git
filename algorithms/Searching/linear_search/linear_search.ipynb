{
 "cells": [
  {
   "cell_type": "code",
   "execution_count": 1,
   "metadata": {},
   "outputs": [
    {
     "name": "stdout",
     "output_type": "stream",
     "text": [
      "The items u entered so far are: \n",
      "[34, 67, 69, 12, 15]\n",
      "Record found...\n",
      "Found at position:  3\n"
     ]
    }
   ],
   "source": [
    "#LINEAR SEARCH OPERATION IN ARRAY\n",
    "#_________________________________________________________________________________\n",
    "class abc(object):\n",
    "    def __init__(self):\n",
    "        self.n=int(input(\"Enter the length of the array: \"))\n",
    "        self.l=[]\n",
    "        for i in range(self.n):\n",
    "            self.l+=[int(input(\"Enter the value: \"))]\n",
    "\n",
    "        print( \"The items u entered so far are: \")\n",
    "        print (self.l)\n",
    "        self.search()\n",
    "\n",
    "    def search(self):\n",
    "        a=int(input(\"Enter the number to search for: \"))\n",
    "        i=0\n",
    "        flag=0\n",
    "        while i<self.n:\n",
    "            if a==self.l[i]:\n",
    "                print (\"Record found...\")\n",
    "                print (\"Found at position: \",i+1)\n",
    "                flag=1\n",
    "                break\n",
    "            else:\n",
    "                i+=1\n",
    "        if flag==0:\n",
    "            print (\"Record not found....\")\n",
    "\n",
    "obj=abc()"
   ]
  },
  {
   "cell_type": "code",
   "execution_count": null,
   "metadata": {},
   "outputs": [],
   "source": []
  }
 ],
 "metadata": {
  "kernelspec": {
   "display_name": "Python 3",
   "language": "python",
   "name": "python3"
  },
  "language_info": {
   "codemirror_mode": {
    "name": "ipython",
    "version": 3
   },
   "file_extension": ".py",
   "mimetype": "text/x-python",
   "name": "python",
   "nbconvert_exporter": "python",
   "pygments_lexer": "ipython3",
   "version": "3.6.5"
  }
 },
 "nbformat": 4,
 "nbformat_minor": 2
}
